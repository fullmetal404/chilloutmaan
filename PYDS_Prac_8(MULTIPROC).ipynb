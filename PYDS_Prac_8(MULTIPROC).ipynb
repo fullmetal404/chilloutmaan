{
  "nbformat": 4,
  "nbformat_minor": 0,
  "metadata": {
    "colab": {
      "name": "PYDS Prac 8.ipynb",
      "provenance": []
    },
    "kernelspec": {
      "name": "python3",
      "display_name": "Python 3"
    }
  },
  "cells": [
    {
      "cell_type": "code",
      "metadata": {
        "id": "I75m7j5ix7Go",
        "colab_type": "code",
        "colab": {
          "base_uri": "https://localhost:8080/",
          "height": 50
        },
        "outputId": "bf595883-9b5e-4d13-d8a9-f7c9aefdfc4f"
      },
      "source": [
        "import multiprocessing\n",
        "multiprocessing.cpu_count()"
      ],
      "execution_count": 1,
      "outputs": [
        {
          "output_type": "execute_result",
          "data": {
            "text/plain": [
              "2"
            ]
          },
          "metadata": {
            "tags": []
          },
          "execution_count": 1
        }
      ]
    },
    {
      "cell_type": "code",
      "metadata": {
        "id": "V-McJPgTx_dG",
        "colab_type": "code",
        "colab": {
          "base_uri": "https://localhost:8080/",
          "height": 101
        },
        "outputId": "68f7bf95-3f87-4bbe-84d0-5b7285ca2d0e"
      },
      "source": [
        "#Process class\n",
        "import multiprocessing\n",
        "from multiprocessing import Process\n",
        "def testing():\n",
        "      print(\"Works\")\n",
        "def square(n):\n",
        "       print(\"The number squares to \",n**2)\n",
        "def cube(n):\n",
        "       print(\"The number cubes to \",n**3)\n",
        "if __name__==\"__main__\":\n",
        "   p1=Process(target=square,args=(7,))\n",
        "   p2=Process(target=cube,args=(7,))\n",
        "   p3=Process(target=testing)\n",
        "   p1.start()\n",
        "   p2.start()\n",
        "   p3.start()\n",
        "   p1.join()\n",
        "   p2.join()\n",
        "   p3.join()\n",
        "   print(\"We're done\")"
      ],
      "execution_count": 2,
      "outputs": [
        {
          "output_type": "stream",
          "text": [
            "The number squares to  49\n",
            "The number cubes to  343\n",
            "Works\n",
            "We're done\n"
          ],
          "name": "stdout"
        }
      ]
    },
    {
      "cell_type": "code",
      "metadata": {
        "id": "5M4_yygMyMyj",
        "colab_type": "code",
        "colab": {
          "base_uri": "https://localhost:8080/",
          "height": 134
        },
        "outputId": "5bfc6fe4-99a4-41b6-9395-255204327716"
      },
      "source": [
        "#Getting process ID\n",
        "import multiprocessing\n",
        "from multiprocessing import Process\n",
        "import os\n",
        "def child1():\n",
        "     print(\"Child 1\",os.getpid())\n",
        "def child2():\n",
        "        print(\"Child 2\",os.getpid())\n",
        "if __name__==\"__main__\":\n",
        "   print(\"Parent ID\",os.getpid())\n",
        "   p1=Process(target=child1)\n",
        "   p2=Process(target=child2)\n",
        "   p1.start()\n",
        "   p2.start()\n",
        "   p1.join()\n",
        "   alive='Yes' if p1.is_alive() else 'No'\n",
        "   print(\"Is p1 alive?\",alive)\n",
        "   alive='Yes' if p2.is_alive() else 'No'\n",
        "   print(\"Is p2 alive?\",alive)\n",
        "   p2.join()\n",
        "   print(\"We're done\")"
      ],
      "execution_count": 3,
      "outputs": [
        {
          "output_type": "stream",
          "text": [
            "Parent ID 123\n",
            "Child 1 168\n",
            "Child 2 171\n",
            "Is p1 alive? No\n",
            "Is p2 alive? Yes\n",
            "We're done\n"
          ],
          "name": "stdout"
        }
      ]
    },
    {
      "cell_type": "code",
      "metadata": {
        "id": "uCutKFv0yeVj",
        "colab_type": "code",
        "colab": {
          "base_uri": "https://localhost:8080/",
          "height": 101
        },
        "outputId": "a1430107-8469-496f-ff1c-b0347f5a0154"
      },
      "source": [
        "#Getting Process Name\n",
        "import multiprocessing\n",
        "from multiprocessing import Process, current_process\n",
        "import os\n",
        "def child1():\n",
        "     print(current_process().name)\n",
        "def child2():\n",
        "         print(current_process().name)\n",
        "if __name__==\"__main__\":\n",
        "   print(\"Parent ID\",os.getpid())\n",
        "   p1=Process(target=child1,name='Child 1')\n",
        "   p2=Process(target=child2,name='Child 2')\n",
        "   p1.start()\n",
        "   p2.start()\n",
        "   p1.join()\n",
        "   p2.join()\n",
        "   print(\"We're done\")"
      ],
      "execution_count": 4,
      "outputs": [
        {
          "output_type": "stream",
          "text": [
            "Parent ID 123\n",
            "Child 1\n",
            "Child 2\n",
            "We're done\n"
          ],
          "name": "stdout"
        }
      ]
    },
    {
      "cell_type": "code",
      "metadata": {
        "id": "L-viy7d9ywnT",
        "colab_type": "code",
        "colab": {
          "base_uri": "https://localhost:8080/",
          "height": 101
        },
        "outputId": "ba5bff72-7a3a-42cb-fb42-d1d6961a3f0f"
      },
      "source": [
        "import multiprocessing\n",
        "from multiprocessing import Process, current_process\n",
        "import os\n",
        "def child1():\n",
        "        print(current_process().name)\n",
        "def child2():\n",
        "        print(current_process().name)\n",
        "if __name__==\"__main__\":\n",
        "   print(\"Parent ID\",os.getpid())\n",
        "   p1=Process(target=child1)\n",
        "   p2=Process(target=child2,name='Child 2')\n",
        "   p1.start()\n",
        "   p2.start()\n",
        "   p1.join()\n",
        "   p2.join()\n",
        "   print(\"We're done\")"
      ],
      "execution_count": 6,
      "outputs": [
        {
          "output_type": "stream",
          "text": [
            "Parent ID 123\n",
            "Process-8\n",
            "Child 2\n",
            "We're done\n"
          ],
          "name": "stdout"
        }
      ]
    },
    {
      "cell_type": "code",
      "metadata": {
        "id": "d8aO7D4PzAXS",
        "colab_type": "code",
        "colab": {
          "base_uri": "https://localhost:8080/",
          "height": 84
        },
        "outputId": "75a9e27f-ff8a-4d2f-d1ba-b8ecbaeb9d29"
      },
      "source": [
        "#Multiprocessing Lock\n",
        "from multiprocessing import Process, Lock\n",
        "lock=Lock()\n",
        "def printer(item):\n",
        "  lock.acquire()\n",
        "  try:\n",
        "      print(item)\n",
        "  finally:\n",
        "      lock.release()\n",
        "if __name__==\"__main__\":\n",
        "  items=['nacho','salsa',7]\n",
        "  for item in items:\n",
        "     p=Process(target=printer,args=(item,))\n",
        "     p.start()"
      ],
      "execution_count": 7,
      "outputs": [
        {
          "output_type": "stream",
          "text": [
            "nacho\n",
            "salsa\n",
            "7\n"
          ],
          "name": "stdout"
        }
      ]
    },
    {
      "cell_type": "code",
      "metadata": {
        "id": "V1Ecak40zlH4",
        "colab_type": "code",
        "colab": {
          "base_uri": "https://localhost:8080/",
          "height": 50
        },
        "outputId": "5bc7d2ad-60a5-44bc-e190-445716835082"
      },
      "source": [
        "#Pool class\n",
        "from multiprocessing import Pool\n",
        "def double(n):\n",
        "   return n*2\n",
        "if __name__=='__main__':\n",
        "   nums=[2,3,6]\n",
        "   pool=Pool(processes=3)\n",
        "   print(pool.map(double,nums))"
      ],
      "execution_count": 8,
      "outputs": [
        {
          "output_type": "stream",
          "text": [
            "[4, 6, 12]\n"
          ],
          "name": "stdout"
        }
      ]
    },
    {
      "cell_type": "code",
      "metadata": {
        "id": "F4nmSFpdz0fb",
        "colab_type": "code",
        "colab": {
          "base_uri": "https://localhost:8080/",
          "height": 50
        },
        "outputId": "dbb8b36b-0895-4a10-9f15-d3bb82b09b75"
      },
      "source": [
        "from multiprocessing import Pool\n",
        "def double(n):\n",
        "   return n*2\n",
        "if __name__=='__main__':\n",
        "   pool=Pool(processes=3)\n",
        "   result=pool.apply_async(double,(7,))\n",
        "   print(result.get(timeout=1))"
      ],
      "execution_count": 9,
      "outputs": [
        {
          "output_type": "stream",
          "text": [
            "14\n"
          ],
          "name": "stdout"
        }
      ]
    },
    {
      "cell_type": "code",
      "metadata": {
        "id": "_HINhHm0z9Gz",
        "colab_type": "code",
        "colab": {}
      },
      "source": [
        ""
      ],
      "execution_count": 0,
      "outputs": []
    }
  ]
}